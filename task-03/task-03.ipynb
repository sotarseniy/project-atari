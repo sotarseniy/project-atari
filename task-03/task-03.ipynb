{
 "cells": [
  {
   "cell_type": "code",
   "execution_count": 1,
   "metadata": {},
   "outputs": [
    {
     "name": "stderr",
     "output_type": "stream",
     "text": [
      "\n"
     ]
    }
   ],
   "source": [
    "import torch\n",
    "import torch.nn as nn\n",
    "import torch.optim as optim\n",
    "import numpy as np\n",
    "\n",
    "import matplotlib.pyplot as plt\n",
    "\n",
    "from ale_py import ALEInterface\n",
    "from ale_py.roms import LostLuggage\n",
    "import gymnasium as gym\n",
    "from tqdm import tqdm"
   ]
  },
  {
   "cell_type": "code",
   "execution_count": 2,
   "metadata": {},
   "outputs": [],
   "source": [
    "ale = ALEInterface()\n",
    "ale.loadROM(LostLuggage)"
   ]
  },
  {
   "cell_type": "code",
   "execution_count": 3,
   "metadata": {},
   "outputs": [],
   "source": [
    "env = gym.make('ALE/LostLuggage-v5', render_mode='human')"
   ]
  },
  {
   "cell_type": "code",
   "execution_count": 4,
   "metadata": {},
   "outputs": [],
   "source": [
    "class PolicyNetwork(nn.Module):\n",
    "    def __init__(self, input_size, hidden_size, output_size):\n",
    "        super(PolicyNetwork, self).__init__()\n",
    "        self.fc1 = nn.Linear(input_size, hidden_size)\n",
    "        self.relu = nn.ReLU()\n",
    "        self.fc2 = nn.Linear(hidden_size, output_size)\n",
    "        self.softmax = nn.Softmax(dim=1)\n",
    "    \n",
    "    def forward(self, x):\n",
    "        x = self.fc1(x)\n",
    "        x = self.relu(x)\n",
    "        x = self.fc2(x)\n",
    "        return self.softmax(x)\n",
    "    "
   ]
  },
  {
   "cell_type": "code",
   "execution_count": 7,
   "metadata": {},
   "outputs": [],
   "source": [
    "def reinforce():\n",
    "    input_size = env.action_space.n\n",
    "    hidden_size = input_size * 4\n",
    "    output_size = input_size\n",
    "    learning_rate = 0.01\n",
    "    num_episodes = 50\n",
    "\n",
    "    poilicy_network = PolicyNetwork(input_size, hidden_size, output_size)\n",
    "    optimizer = optim.Adam(poilicy_network.parameters(), lr=learning_rate)\n",
    "\n",
    "    for _ in range(num_episodes):\n",
    "        env.reset()\n",
    "        actions = np.zeros((env.action_space.n,))\n",
    "        log_probs = []\n",
    "        rewards = []\n",
    "        is_done = False\n",
    "        while not is_done:\n",
    "            action_tensor = torch.from_numpy(actions).float().unsqueeze(0)\n",
    "            action_probs = poilicy_network(action_tensor)\n",
    "            action = torch.multinomial(action_probs, 1).item()\n",
    "            log_probs.append(torch.log(action_probs[0][action]))\n",
    "            _, reward, is_done, _, _ = env.step(action)\n",
    "            rewards.append(reward)\n",
    "\n",
    "        returns = []\n",
    "        G = 0\n",
    "        for reward in rewards[::-1]:\n",
    "            G = reward + 0.9 * G\n",
    "            returns.insert(0, G)\n",
    "\n",
    "        policy_loss = []\n",
    "\n",
    "        for log_prob, G in zip(log_probs, returns):\n",
    "            policy_loss.append(-log_prob * G)\n",
    "        \n",
    "        optimizer.zero_grad()\n",
    "        policy_loss = torch.cat(policy_loss).sum() # <--\n",
    "        policy_loss.backward()\n",
    "        optimizer.step()\n",
    "\n",
    "        print(f'{_ + 1}, Loss {policy_loss.item()}')"
   ]
  },
  {
   "cell_type": "code",
   "execution_count": 8,
   "metadata": {},
   "outputs": [
    {
     "ename": "RuntimeError",
     "evalue": "zero-dimensional tensor (at position 0) cannot be concatenated",
     "output_type": "error",
     "traceback": [
      "\u001b[1;31m---------------------------------------------------------------------------\u001b[0m",
      "\u001b[1;31mRuntimeError\u001b[0m                              Traceback (most recent call last)",
      "Cell \u001b[1;32mIn[8], line 1\u001b[0m\n\u001b[1;32m----> 1\u001b[0m \u001b[43mreinforce\u001b[49m\u001b[43m(\u001b[49m\u001b[43m)\u001b[49m\n",
      "Cell \u001b[1;32mIn[7], line 37\u001b[0m, in \u001b[0;36mreinforce\u001b[1;34m()\u001b[0m\n\u001b[0;32m     34\u001b[0m     policy_loss\u001b[38;5;241m.\u001b[39mappend(\u001b[38;5;241m-\u001b[39mlog_prob \u001b[38;5;241m*\u001b[39m G)\n\u001b[0;32m     36\u001b[0m optimizer\u001b[38;5;241m.\u001b[39mzero_grad()\n\u001b[1;32m---> 37\u001b[0m policy_loss \u001b[38;5;241m=\u001b[39m \u001b[43mtorch\u001b[49m\u001b[38;5;241;43m.\u001b[39;49m\u001b[43mcat\u001b[49m\u001b[43m(\u001b[49m\u001b[43mpolicy_loss\u001b[49m\u001b[43m)\u001b[49m\u001b[38;5;241m.\u001b[39msum()\n\u001b[0;32m     38\u001b[0m policy_loss\u001b[38;5;241m.\u001b[39mbackward()\n\u001b[0;32m     39\u001b[0m optimizer\u001b[38;5;241m.\u001b[39mstep()\n",
      "\u001b[1;31mRuntimeError\u001b[0m: zero-dimensional tensor (at position 0) cannot be concatenated"
     ]
    }
   ],
   "source": [
    "reinforce()"
   ]
  }
 ],
 "metadata": {
  "kernelspec": {
   "display_name": "Python 3",
   "language": "python",
   "name": "python3"
  },
  "language_info": {
   "codemirror_mode": {
    "name": "ipython",
    "version": 3
   },
   "file_extension": ".py",
   "mimetype": "text/x-python",
   "name": "python",
   "nbconvert_exporter": "python",
   "pygments_lexer": "ipython3",
   "version": "3.11.7"
  }
 },
 "nbformat": 4,
 "nbformat_minor": 2
}
