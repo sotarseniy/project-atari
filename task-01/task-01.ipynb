{
 "cells": [
  {
   "cell_type": "code",
   "execution_count": 1,
   "metadata": {},
   "outputs": [
    {
     "name": "stderr",
     "output_type": "stream",
     "text": [
      "\n"
     ]
    }
   ],
   "source": [
    "import numpy as np\n",
    "import matplotlib.pyplot as plt\n",
    "\n",
    "from ale_py import ALEInterface\n",
    "from ale_py.roms import LostLuggage\n",
    "import gymnasium as gym"
   ]
  },
  {
   "cell_type": "code",
   "execution_count": 2,
   "metadata": {},
   "outputs": [],
   "source": [
    "ale = ALEInterface()\n",
    "ale.loadROM(LostLuggage)"
   ]
  },
  {
   "cell_type": "code",
   "execution_count": 3,
   "metadata": {},
   "outputs": [
    {
     "name": "stdout",
     "output_type": "stream",
     "text": [
      "Тип пространств действий: Discrete(9)\n",
      "Тип пространства состояний: Box(0, 255, (210, 160, 3), uint8)\n"
     ]
    }
   ],
   "source": [
    "env = gym.make('ALE/LostLuggage-v5', render_mode='human')\n",
    "\n",
    "print(f\"Тип пространств действий: {env.action_space}\")\n",
    "print(f\"Тип пространства состояний: {env.observation_space}\")"
   ]
  },
  {
   "cell_type": "code",
   "execution_count": 4,
   "metadata": {},
   "outputs": [],
   "source": [
    "def epsilon_greedy(Q_values, epsilon):\n",
    "    if np.random.rand() < epsilon:\n",
    "        action = env.action_space.sample()\n",
    "    else:\n",
    "        action = np.argmax(Q_values)\n",
    "    return action"
   ]
  },
  {
   "cell_type": "code",
   "execution_count": 5,
   "metadata": {},
   "outputs": [
    {
     "name": "stdout",
     "output_type": "stream",
     "text": [
      "0 награда: 6.0\n",
      "1 награда: 30.0\n",
      "2 награда: 9.0\n",
      "3 награда: 15.0\n",
      "4 награда: 3.0\n",
      "5 награда: 6.0\n",
      "6 награда: 18.0\n",
      "7 награда: 3.0\n",
      "8 награда: 6.0\n",
      "9 награда: 3.0\n",
      "10 награда: 18.0\n",
      "11 награда: 3.0\n",
      "12 награда: 3.0\n",
      "13 награда: 3.0\n",
      "14 награда: 36.0\n",
      "15 награда: 3.0\n",
      "16 награда: 12.0\n",
      "17 награда: 6.0\n",
      "18 награда: 3.0\n",
      "19 награда: 0.0\n",
      "20 награда: 12.0\n",
      "21 награда: 21.0\n",
      "22 награда: 3.0\n",
      "23 награда: 9.0\n",
      "24 награда: 6.0\n",
      "25 награда: 12.0\n",
      "26 награда: 6.0\n",
      "27 награда: 9.0\n",
      "28 награда: 12.0\n",
      "29 награда: 12.0\n"
     ]
    }
   ],
   "source": [
    "episode_rewards = []\n",
    "Q = np.zeros((env.action_space.n,))\n",
    "    \n",
    "for episode in range(30):\n",
    "    state = env.reset()\n",
    "    done = False\n",
    "    total_reward = 0\n",
    "\n",
    "    while not done:\n",
    "        action = epsilon_greedy(Q, epsilon = 0.1)\n",
    "        next_state, reward, done, _, _ = env.step(action)\n",
    "        total_reward += reward\n",
    "        Q[action] += 1e-2 * (reward + np.max(Q) - Q[action])\n",
    "        state = next_state\n",
    "\n",
    "    episode_rewards.append(total_reward)\n",
    "    print(episode, \"награда:\", total_reward)\n",
    "\n",
    "env.close()"
   ]
  }
 ],
 "metadata": {
  "kernelspec": {
   "display_name": "Python 3",
   "language": "python",
   "name": "python3"
  },
  "language_info": {
   "codemirror_mode": {
    "name": "ipython",
    "version": 3
   },
   "file_extension": ".py",
   "mimetype": "text/x-python",
   "name": "python",
   "nbconvert_exporter": "python",
   "pygments_lexer": "ipython3",
   "version": "3.11.7"
  }
 },
 "nbformat": 4,
 "nbformat_minor": 2
}
